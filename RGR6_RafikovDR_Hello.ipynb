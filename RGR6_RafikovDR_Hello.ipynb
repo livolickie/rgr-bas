{
  "nbformat": 4,
  "nbformat_minor": 0,
  "metadata": {
    "colab": {
      "name": "RGR6_RafikovDR_Hello.ipynb",
      "provenance": [],
      "collapsed_sections": []
    },
    "kernelspec": {
      "name": "python3",
      "display_name": "Python 3"
    },
    "language_info": {
      "name": "python"
    }
  },
  "cells": [
    {
      "cell_type": "markdown",
      "source": [
        "#Рафиков Данил ПИ-321 РГР Этап 6\n",
        "##Задание 1"
      ],
      "metadata": {
        "id": "6ZN5a3i3Uf4u"
      }
    },
    {
      "cell_type": "code",
      "source": [
        "print(\"Hello world!\")"
      ],
      "metadata": {
        "colab": {
          "base_uri": "https://localhost:8080/"
        },
        "id": "n9y7hnJxUipW",
        "outputId": "2f215946-ba2c-43aa-ee75-3b451aaf6abb"
      },
      "execution_count": 1,
      "outputs": [
        {
          "output_type": "stream",
          "name": "stdout",
          "text": [
            "Hello world!\n"
          ]
        }
      ]
    }
  ]
}