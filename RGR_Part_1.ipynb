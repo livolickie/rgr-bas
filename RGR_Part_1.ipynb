{
  "nbformat": 4,
  "nbformat_minor": 0,
  "metadata": {
    "colab": {
      "name": "RGR_Part_1.ipynb",
      "provenance": [],
      "collapsed_sections": []
    },
    "kernelspec": {
      "name": "python3",
      "display_name": "Python 3"
    },
    "language_info": {
      "name": "python"
    }
  },
  "cells": [
    {
      "cell_type": "markdown",
      "source": [
        "# Греческий алфавит - 1 уровень\n",
        "## Греческий алфавит - 2 уровень\n",
        "### Греческий алфавит - 3 уровень"
      ],
      "metadata": {
        "id": "Emw6Tvnu4rrk"
      }
    },
    {
      "cell_type": "markdown",
      "source": [
        "Заглавная|Строчная|Название\n",
        "--|--|--\n",
        "A|$\\alpha$|альфа\n",
        "B|$\\beta$|бета\n",
        "$\\Gamma$|$\\gamma$|гамма\n",
        "$\\Delta$|$\\delta$|дельта\n",
        "E|$\\epsilon$|эпсилон\n",
        "H|$\\eta$|эта\n",
        "$\\Theta$|$\\theta$|тета\n",
        "I|$\\iota$|йота\n",
        "K|$\\kappa$|каппа\n",
        "$\\Lambda$|$\\lambda$|лямбда\n",
        "M|$\\mu$|мю\n",
        "N|$\\nu$|ню\n",
        "$\\Xi$|$\\xi$|кси\n",
        "O|o|омикрон\n",
        "$\\Pi$|$\\pi$|пи\n",
        "P|$\\rho$|ро\n",
        "$\\Sigma$|$\\sigma$|сигма\n",
        "T|$\\tau$|тау\n",
        "$\\Upsilon$|$\\upsilon$|ипсилон\n",
        "$\\Phi$|$\\phi$|фи\n",
        "X|$\\chi$|хи\n",
        "$\\Psi$|$\\psi$|пси\n",
        "$\\Omega$|$\\omega$|омега"
      ],
      "metadata": {
        "id": "cutMRMcr5FQv"
      }
    },
    {
      "cell_type": "markdown",
      "source": [
        ""
      ],
      "metadata": {
        "id": "85WU-YNM-mvn"
      }
    },
    {
      "cell_type": "markdown",
      "source": [
        "# Формула нормального распределения\n",
        "${\\displaystyle f(x)={\\frac {1}{\\sigma {\\sqrt {2\\pi}}}}e^{-{\\frac {1}{2}}\\left({\\frac {x-\\mu }{\\sigma }}\\right)^{2}}}$\n"
      ],
      "metadata": {
        "id": "AeWsUX4d-IV0"
      }
    },
    {
      "cell_type": "code",
      "source": [
        ""
      ],
      "metadata": {
        "id": "JF4bh4CM5IXV"
      },
      "execution_count": null,
      "outputs": []
    }
  ]
}